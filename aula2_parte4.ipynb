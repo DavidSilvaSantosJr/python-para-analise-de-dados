{
 "cells": [
  {
   "cell_type": "markdown",
   "id": "2ca248f2-1d5e-4320-af56-9eccd65d1550",
   "metadata": {},
   "source": [
    "## analise de dados da copa do mundo\n",
    "com base ma ágina spbre a copa do mundo na wikipedia vamos obter os dados de publico pagante em cada final.(raspagem de dados)\n",
    "link: https://pt.wikipedia.org/wiki/Copa_do_Mundo_FIFA"
   ]
  },
  {
   "cell_type": "code",
   "execution_count": 24,
   "id": "626b62fa-eea1-4bc5-8192-bd598cf0cc99",
   "metadata": {},
   "outputs": [],
   "source": [
    "import pandas as pd\n",
    "import requests as rq\n",
    "\n",
    "url = 'https://pt.wikipedia.org/wiki/Copa_do_Mundo_FIFA'\n",
    "resposta = rq.get(url)\n",
    "\n",
    "#obter a resposta em formato HTML\n",
    "table = pd.read_html(resposta.text)\n",
    "\n",
    "#por padrao do pandas, ele transformara as tabelas encontradas nas paginas html em dataframe automaticamente"
   ]
  },
  {
   "cell_type": "code",
   "execution_count": 25,
   "id": "d49b12a1-4ded-40b9-9fd6-f7dd698c3790",
   "metadata": {},
   "outputs": [
    {
     "data": {
      "text/html": [
       "<div>\n",
       "<style scoped>\n",
       "    .dataframe tbody tr th:only-of-type {\n",
       "        vertical-align: middle;\n",
       "    }\n",
       "\n",
       "    .dataframe tbody tr th {\n",
       "        vertical-align: top;\n",
       "    }\n",
       "\n",
       "    .dataframe thead th {\n",
       "        text-align: right;\n",
       "    }\n",
       "</style>\n",
       "<table border=\"1\" class=\"dataframe\">\n",
       "  <thead>\n",
       "    <tr style=\"text-align: right;\">\n",
       "      <th></th>\n",
       "      <th>Edição</th>\n",
       "      <th>Ano</th>\n",
       "      <th>Estádio</th>\n",
       "      <th>Local</th>\n",
       "      <th>Público pagante</th>\n",
       "    </tr>\n",
       "  </thead>\n",
       "  <tbody>\n",
       "    <tr>\n",
       "      <th>0</th>\n",
       "      <td>I</td>\n",
       "      <td>1930</td>\n",
       "      <td>Estádio Centenário</td>\n",
       "      <td>Montevidéu</td>\n",
       "      <td>68.346</td>\n",
       "    </tr>\n",
       "    <tr>\n",
       "      <th>1</th>\n",
       "      <td>II</td>\n",
       "      <td>1934</td>\n",
       "      <td>Estádio do Partido Nacional Fascista</td>\n",
       "      <td>Roma</td>\n",
       "      <td>55.000</td>\n",
       "    </tr>\n",
       "    <tr>\n",
       "      <th>2</th>\n",
       "      <td>III</td>\n",
       "      <td>1938</td>\n",
       "      <td>Estádio Olímpico Yves-du-Manoir</td>\n",
       "      <td>Colombes</td>\n",
       "      <td>45.000</td>\n",
       "    </tr>\n",
       "    <tr>\n",
       "      <th>3</th>\n",
       "      <td>IV</td>\n",
       "      <td>1950</td>\n",
       "      <td>Estádio do Maracanã</td>\n",
       "      <td>Rio de Janeiro</td>\n",
       "      <td>173.850</td>\n",
       "    </tr>\n",
       "    <tr>\n",
       "      <th>4</th>\n",
       "      <td>V</td>\n",
       "      <td>1954</td>\n",
       "      <td>Estádio Wankdorf</td>\n",
       "      <td>Berna</td>\n",
       "      <td>62.500</td>\n",
       "    </tr>\n",
       "  </tbody>\n",
       "</table>\n",
       "</div>"
      ],
      "text/plain": [
       "  Edição   Ano                               Estádio           Local  \\\n",
       "0      I  1930                    Estádio Centenário      Montevidéu   \n",
       "1     II  1934  Estádio do Partido Nacional Fascista            Roma   \n",
       "2    III  1938       Estádio Olímpico Yves-du-Manoir        Colombes   \n",
       "3     IV  1950                   Estádio do Maracanã  Rio de Janeiro   \n",
       "4      V  1954                      Estádio Wankdorf           Berna   \n",
       "\n",
       "   Público pagante  \n",
       "0           68.346  \n",
       "1           55.000  \n",
       "2           45.000  \n",
       "3          173.850  \n",
       "4           62.500  "
      ]
     },
     "execution_count": 25,
     "metadata": {},
     "output_type": "execute_result"
    }
   ],
   "source": [
    "#selecionando apenas o queé desejado na pagina\n",
    "\n",
    "#tabela com o n° de pagantes nas finas -> nesse caso 12° tabela\n",
    "#fazer com que o df seja  apenas a parte que sera selecionada(12° tabela)\n",
    "df = table[11]\n",
    "df.head()"
   ]
  },
  {
   "cell_type": "code",
   "execution_count": 27,
   "id": "4bf9de51-dc7a-4830-a2a7-5776873dea17",
   "metadata": {
    "collapsed": true,
    "jupyter": {
     "outputs_hidden": true
    },
    "tags": []
   },
   "outputs": [
    {
     "data": {
      "text/plain": [
       "'\\ndf.columns = df.iloc[0]\\n\\n#apagando a primeira linha inteira\\n#dataframe.drop(dataframeindex[index], inplace=True) -> inplace: fazer com que seja executado a exclusão na linha do notebook, modificando o df original\\n\\ndf.drop(df.index[0], inplace=True)\\ndf.head\\n'"
      ]
     },
     "execution_count": 27,
     "metadata": {},
     "output_type": "execute_result"
    }
   ],
   "source": [
    "#mudar o nome das colunas usando a primeira linha -> aqui não precisou, mas vai que...\n",
    "\"\"\"\n",
    "df.columns = df.iloc[0]\n",
    "\n",
    "#apagando a primeira linha inteira\n",
    "#dataframe.drop(dataframeindex[index], inplace=True) -> inplace: fazer com que seja executado a exclusão na linha do notebook, modificando o df original\n",
    "\n",
    "df.drop(df.index[0], inplace=True)\n",
    "df.head\n",
    "\"\"\""
   ]
  },
  {
   "cell_type": "code",
   "execution_count": 26,
   "id": "6ed87579-ceba-4532-915f-f6eae9f534fb",
   "metadata": {},
   "outputs": [
    {
     "name": "stdout",
     "output_type": "stream",
     "text": [
      "<class 'pandas.core.frame.DataFrame'>\n",
      "RangeIndex: 21 entries, 0 to 20\n",
      "Data columns (total 5 columns):\n",
      " #   Column           Non-Null Count  Dtype  \n",
      "---  ------           --------------  -----  \n",
      " 0   Edição           21 non-null     object \n",
      " 1   Ano              21 non-null     int64  \n",
      " 2   Estádio          21 non-null     object \n",
      " 3   Local            21 non-null     object \n",
      " 4   Público pagante  21 non-null     float64\n",
      "dtypes: float64(1), int64(1), object(3)\n",
      "memory usage: 968.0+ bytes\n"
     ]
    }
   ],
   "source": [
    "df.info()"
   ]
  },
  {
   "cell_type": "code",
   "execution_count": 31,
   "id": "0494f793-9ee4-4851-99e1-489103ba6a79",
   "metadata": {},
   "outputs": [
    {
     "name": "stdout",
     "output_type": "stream",
     "text": [
      "<class 'pandas.core.frame.DataFrame'>\n",
      "RangeIndex: 21 entries, 0 to 20\n",
      "Data columns (total 5 columns):\n",
      " #   Column           Non-Null Count  Dtype \n",
      "---  ------           --------------  ----- \n",
      " 0   Edição           21 non-null     object\n",
      " 1   Ano              21 non-null     int64 \n",
      " 2   Estádio          21 non-null     object\n",
      " 3   Local            21 non-null     object\n",
      " 4   Público pagante  21 non-null     int32 \n",
      "dtypes: int32(1), int64(1), object(3)\n",
      "memory usage: 884.0+ bytes\n"
     ]
    }
   ],
   "source": [
    "#convetendo tipo de valores\n",
    "#conveter publico pagante para inteiro\n",
    "\n",
    "df['Público pagante'] = df['Público pagante'].astype(int)\n",
    "df.info()"
   ]
  },
  {
   "cell_type": "markdown",
   "id": "95244408-08d3-4a0e-93ae-35e245da322e",
   "metadata": {},
   "source": [
    "### construir um grafico com a evloução do publico pagante\n",
    "- usando seaborn e matplotlib"
   ]
  },
  {
   "cell_type": "code",
   "execution_count": 36,
   "id": "54e38f18-5c82-44f2-bf1e-2d71fd781ba9",
   "metadata": {},
   "outputs": [],
   "source": [
    "import seaborn as sns\n",
    "import matplotlib.pyplot as plt\n",
    "%matplotlib inline"
   ]
  },
  {
   "cell_type": "code",
   "execution_count": 39,
   "id": "b982963e-d763-4055-ab0a-9fae5847d8f8",
   "metadata": {},
   "outputs": [
    {
     "data": {
      "image/png": "[encoded data removed]",
      "text/plain": [
       "<Figure size 432x288 with 1 Axes>"
      ]
     },
     "metadata": {
      "needs_background": "light"
     },
     "output_type": "display_data"
    }
   ],
   "source": [
    "#sns.pointplot(x='coluna para o eixo x', y='coluna para o eixo y', data=dataframe)\n",
    "sns.pointplot(x='Ano', y='Público pagante', data=df)\n",
    "\n",
    "#ajustar legenda -> rotação\n",
    "plt.xticks(rotation=65)\n",
    "plt.show()"
   ]
  },
  {
   "cell_type": "code",
   "execution_count": null,
   "id": "59010779-6d4f-4c79-bf84-e8177fa31a36",
   "metadata": {},
   "outputs": [],
   "source": []
  }
 ],
 "metadata": {
  "kernelspec": {
   "display_name": "Python 3 (ipykernel)",
   "language": "python",
   "name": "python3"
  },
  "language_info": {
   "codemirror_mode": {
    "name": "ipython",
    "version": 3
   },
   "file_extension": ".py",
   "mimetype": "text/x-python",
   "name": "python",
   "nbconvert_exporter": "python",
   "pygments_lexer": "ipython3",
   "version": "3.9.12"
  }
 },
 "nbformat": 4,
 "nbformat_minor": 5
}
